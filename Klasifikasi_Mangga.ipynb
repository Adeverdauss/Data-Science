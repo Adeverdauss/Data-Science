{
  "nbformat": 4,
  "nbformat_minor": 0,
  "metadata": {
    "colab": {
      "provenance": []
    },
    "kernelspec": {
      "name": "python3",
      "display_name": "Python 3"
    },
    "language_info": {
      "name": "python"
    }
  },
  "cells": [
    {
      "source": [
        "import os\n",
        "import cv2\n",
        "import numpy as np\n",
        "import tensorflow as tf\n",
        "from tensorflow.keras.preprocessing.image import ImageDataGenerator\n",
        "from tensorflow.keras.applications import InceptionV3\n",
        "from tensorflow.keras.layers import GlobalAveragePooling2D, Dense, Dropout\n",
        "from tensorflow.keras.models import Sequential\n",
        "from sklearn.model_selection import train_test_split"
      ],
      "cell_type": "code",
      "metadata": {
        "id": "NwhiIFytU0lP"
      },
      "execution_count": 95,
      "outputs": []
    },
    {
      "cell_type": "code",
      "source": [
        "import zipfile\n",
        "dataset = zipfile.ZipFile('Mangga.zip', 'r')\n",
        "dataset.extractall()\n",
        "dataset.close()"
      ],
      "metadata": {
        "id": "QAA5mvS6VPQX"
      },
      "execution_count": 96,
      "outputs": []
    },
    {
      "cell_type": "code",
      "source": [
        "import os\n",
        "os.listdir('Mangga')"
      ],
      "metadata": {
        "colab": {
          "base_uri": "https://localhost:8080/"
        },
        "id": "qS1mytTxVTLr",
        "outputId": "d7bf9c37-3e84-4464-efdd-333deef4980d"
      },
      "execution_count": 113,
      "outputs": [
        {
          "output_type": "execute_result",
          "data": {
            "text/plain": [
              "['Mangga Alpukat', 'Mangga Harum Manis', 'Mangga Gedong Gincu']"
            ]
          },
          "metadata": {},
          "execution_count": 113
        }
      ]
    },
    {
      "cell_type": "code",
      "source": [
        "# Direct\n",
        "dataset_dir = 'Mangga'"
      ],
      "metadata": {
        "id": "53hOb6SPYE2k"
      },
      "execution_count": 114,
      "outputs": []
    },
    {
      "cell_type": "code",
      "source": [
        "data = []\n",
        "labels = []"
      ],
      "metadata": {
        "id": "6o1gdWndYWZ9"
      },
      "execution_count": 115,
      "outputs": []
    },
    {
      "cell_type": "code",
      "source": [
        "\n",
        "# Preprocessing: Membaca gambar dan menyimpan data serta labelnya\n",
        "for class_dir in os.listdir(dataset_dir):\n",
        "    class_path = os.path.join(dataset_dir, class_dir)\n",
        "    if os.path.isdir(class_path):\n",
        "        for image_name in os.listdir(class_path):\n",
        "            image_path = os.path.join(class_path, image_name)\n",
        "            # Membaca gambar\n",
        "            img = cv2.imread(image_path)\n",
        "            img = cv2.resize(img, (299, 299))  # Resize sesuai InceptionV3\n",
        "            data.append(img)\n",
        "            labels.append(class_dir)"
      ],
      "metadata": {
        "id": "SrWekNneYY3z"
      },
      "execution_count": 116,
      "outputs": []
    },
    {
      "cell_type": "code",
      "source": [
        "# Konversi ke numpy array\n",
        "data = np.array(data)\n",
        "labels = np.array(labels)\n"
      ],
      "metadata": {
        "id": "1mgoWQcCYmzN"
      },
      "execution_count": 117,
      "outputs": []
    },
    {
      "cell_type": "code",
      "source": [
        "# One-hot encode label\n",
        "label_encoder = {label: i for i, label in enumerate(np.unique(labels))}\n",
        "labels = np.array([label_encoder[label] for label in labels])"
      ],
      "metadata": {
        "id": "JXUIqxwZYnu2"
      },
      "execution_count": 118,
      "outputs": []
    },
    {
      "cell_type": "code",
      "source": [
        "# Split data menjadi train dan test (80% training, 20% testing)\n",
        "X_train, X_test, y_train, y_test = train_test_split(data, labels, test_size=0.2, stratify=labels)\n",
        "\n"
      ],
      "metadata": {
        "id": "ZlQUwAx5YrYB"
      },
      "execution_count": 119,
      "outputs": []
    },
    {
      "cell_type": "code",
      "source": [
        "\n",
        "# Augmentasi menggunakan ImageDataGenerator\n",
        "datagen = ImageDataGenerator(\n",
        "    rescale=1./255,\n",
        "    rotation_range=40,\n",
        "    width_shift_range=0.2,\n",
        "    height_shift_range=0.2,\n",
        "    shear_range=0.2,\n",
        "    zoom_range=0.2,\n",
        "    horizontal_flip=True,\n",
        "    fill_mode='nearest'\n",
        ")\n"
      ],
      "metadata": {
        "id": "-1dJ1sj-YtRj"
      },
      "execution_count": 120,
      "outputs": []
    },
    {
      "cell_type": "code",
      "source": [
        "\n",
        "# Siapkan generator data training\n",
        "train_datagen = datagen.flow(X_train, y_train, batch_size=32)\n",
        "\n",
        "# Siapkan model InceptionV3\n",
        "base_model = InceptionV3(weights='imagenet', include_top=False, input_shape=(299, 299, 3))\n",
        "\n",
        "# Bangun model klasifikasi\n",
        "model = Sequential([\n",
        "    base_model,\n",
        "    GlobalAveragePooling2D(),\n",
        "    Dropout(0.5),\n",
        "    Dense(len(np.unique(labels)), activation='softmax')  # Kelas sesuai jumlah label unik\n",
        "])\n",
        "\n",
        "# Kompilasi model\n",
        "model.compile(optimizer='adam', loss='sparse_categorical_crossentropy', metrics=['accuracy'])\n",
        "\n"
      ],
      "metadata": {
        "id": "24LXhGV8YxiY"
      },
      "execution_count": 121,
      "outputs": []
    },
    {
      "cell_type": "code",
      "source": [
        "# Siapkan model InceptionV3\n",
        "base_model = InceptionV3(weights='imagenet', include_top=False, input_shape=(299, 299, 3))\n",
        "\n",
        "# Bangun model klasifikasi\n",
        "model = Sequential([\n",
        "    base_model,\n",
        "    GlobalAveragePooling2D(),\n",
        "    Dropout(0.5),\n",
        "    Dense(len(np.unique(labels)), activation='softmax')  # Kelas sesuai jumlah label unik\n",
        "])\n",
        "\n",
        "# Kompilasi model\n",
        "model.compile(optimizer='adam', loss='sparse_categorical_crossentropy', metrics=['accuracy'])\n"
      ],
      "metadata": {
        "id": "T2Jr3TLRYzfp"
      },
      "execution_count": 122,
      "outputs": []
    },
    {
      "cell_type": "code",
      "source": [
        "# Latih model\n",
        "history = model.fit(\n",
        "    train_datagen,\n",
        "    steps_per_epoch=len(X_train) // 64,\n",
        "    epochs=10,\n",
        "    validation_data=(X_test / 255.0, y_test)  # Normalisasi data test\n",
        ")"
      ],
      "metadata": {
        "colab": {
          "base_uri": "https://localhost:8080/"
        },
        "id": "i4t-M7ZhitnL",
        "outputId": "a7b35132-ce6e-4eed-ebad-552679311fc7"
      },
      "execution_count": 123,
      "outputs": [
        {
          "output_type": "stream",
          "name": "stdout",
          "text": [
            "Epoch 1/10\n"
          ]
        },
        {
          "output_type": "stream",
          "name": "stderr",
          "text": [
            "/usr/local/lib/python3.10/dist-packages/keras/src/trainers/data_adapters/py_dataset_adapter.py:121: UserWarning: Your `PyDataset` class should call `super().__init__(**kwargs)` in its constructor. `**kwargs` can include `workers`, `use_multiprocessing`, `max_queue_size`. Do not pass these arguments to `fit()`, as they will be ignored.\n",
            "  self._warn_if_super_not_called()\n"
          ]
        },
        {
          "output_type": "stream",
          "name": "stdout",
          "text": [
            "\u001b[1m2/2\u001b[0m \u001b[32m━━━━━━━━━━━━━━━━━━━━\u001b[0m\u001b[37m\u001b[0m \u001b[1m128s\u001b[0m 42s/step - accuracy: 0.4032 - loss: 1.1002 - val_accuracy: 1.0000 - val_loss: 0.0655\n",
            "Epoch 2/10\n",
            "\u001b[1m2/2\u001b[0m \u001b[32m━━━━━━━━━━━━━━━━━━━━\u001b[0m\u001b[37m\u001b[0m \u001b[1m70s\u001b[0m 35s/step - accuracy: 1.0000 - loss: 0.0147 - val_accuracy: 0.6667 - val_loss: 0.7902\n",
            "Epoch 3/10\n",
            "\u001b[1m2/2\u001b[0m \u001b[32m━━━━━━━━━━━━━━━━━━━━\u001b[0m\u001b[37m\u001b[0m \u001b[1m68s\u001b[0m 37s/step - accuracy: 1.0000 - loss: 6.4582e-04 - val_accuracy: 0.3333 - val_loss: 5.7708\n",
            "Epoch 4/10\n",
            "\u001b[1m2/2\u001b[0m \u001b[32m━━━━━━━━━━━━━━━━━━━━\u001b[0m\u001b[37m\u001b[0m \u001b[1m86s\u001b[0m 37s/step - accuracy: 1.0000 - loss: 2.9330e-05 - val_accuracy: 0.3333 - val_loss: 8.9015\n",
            "Epoch 5/10\n",
            "\u001b[1m2/2\u001b[0m \u001b[32m━━━━━━━━━━━━━━━━━━━━\u001b[0m\u001b[37m\u001b[0m \u001b[1m70s\u001b[0m 33s/step - accuracy: 1.0000 - loss: 0.0015 - val_accuracy: 0.3333 - val_loss: 7.5218\n",
            "Epoch 6/10\n",
            "\u001b[1m2/2\u001b[0m \u001b[32m━━━━━━━━━━━━━━━━━━━━\u001b[0m\u001b[37m\u001b[0m \u001b[1m83s\u001b[0m 35s/step - accuracy: 1.0000 - loss: 2.5992e-05 - val_accuracy: 0.3333 - val_loss: 5.3823\n",
            "Epoch 7/10\n",
            "\u001b[1m2/2\u001b[0m \u001b[32m━━━━━━━━━━━━━━━━━━━━\u001b[0m\u001b[37m\u001b[0m \u001b[1m68s\u001b[0m 37s/step - accuracy: 0.9889 - loss: 0.0686 - val_accuracy: 0.3333 - val_loss: 6.0164\n",
            "Epoch 8/10\n",
            "\u001b[1m2/2\u001b[0m \u001b[32m━━━━━━━━━━━━━━━━━━━━\u001b[0m\u001b[37m\u001b[0m \u001b[1m83s\u001b[0m 35s/step - accuracy: 0.9667 - loss: 0.1353 - val_accuracy: 0.3333 - val_loss: 20.5211\n",
            "Epoch 9/10\n",
            "\u001b[1m2/2\u001b[0m \u001b[32m━━━━━━━━━━━━━━━━━━━━\u001b[0m\u001b[37m\u001b[0m \u001b[1m83s\u001b[0m 40s/step - accuracy: 0.8849 - loss: 0.5486 - val_accuracy: 0.3333 - val_loss: 147.5212\n",
            "Epoch 10/10\n",
            "\u001b[1m2/2\u001b[0m \u001b[32m━━━━━━━━━━━━━━━━━━━━\u001b[0m\u001b[37m\u001b[0m \u001b[1m81s\u001b[0m 35s/step - accuracy: 0.9778 - loss: 0.0437 - val_accuracy: 0.3333 - val_loss: 843.6144\n"
          ]
        }
      ]
    },
    {
      "cell_type": "code",
      "source": [
        "\n",
        "# Evaluasi model\n",
        "test_loss, test_accuracy = model.evaluate(X_test / 255.0, y_test)\n",
        "print(f\"Test Accuracy: {test_accuracy * 100:.2f}%\")"
      ],
      "metadata": {
        "colab": {
          "base_uri": "https://localhost:8080/"
        },
        "id": "SCFHLp2IkQI4",
        "outputId": "4296a76b-f75c-42a0-e1ba-581d4238eca9"
      },
      "execution_count": 125,
      "outputs": [
        {
          "output_type": "stream",
          "name": "stdout",
          "text": [
            "\u001b[1m1/1\u001b[0m \u001b[32m━━━━━━━━━━━━━━━━━━━━\u001b[0m\u001b[37m\u001b[0m \u001b[1m3s\u001b[0m 3s/step - accuracy: 0.3333 - loss: 843.6144\n",
            "Test Accuracy: 33.33%\n"
          ]
        }
      ]
    }
  ]
}